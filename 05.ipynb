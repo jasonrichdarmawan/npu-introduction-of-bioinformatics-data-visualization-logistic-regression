{
 "cells": [
  {
   "cell_type": "markdown",
   "metadata": {},
   "source": [
    "# One-way ANOVA Test\n",
    "\n",
    "$F = \\dfrac{MSS_B}{MSS_W}$\n",
    "\n",
    "$MSS_W = \\dfrac{ \\sum_{g \\in G} ( X - \\bar{X}_{g} )^2 } {n - k}$\n",
    "\n",
    "$n$ is total number of variables\n",
    "\n",
    "$k$ is total number of groups\n",
    "\n",
    "$MSS_B = \\dfrac{\\sum_{g \\in G} n_g ( \\bar{X} - \\bar{G} ) } {k - 1}$\n",
    "\n",
    "$df_B = k - 1$\n",
    "\n",
    "$df_W = n - k$"
   ]
  },
  {
   "cell_type": "code",
   "execution_count": 34,
   "metadata": {},
   "outputs": [],
   "source": [
    "# Import the required Python packages\n",
    "import pandas as pd\n",
    "import numpy as np\n",
    "from scipy.stats import f"
   ]
  },
  {
   "cell_type": "code",
   "execution_count": 24,
   "metadata": {},
   "outputs": [
    {
     "data": {
      "text/html": [
       "<div>\n",
       "<style scoped>\n",
       "    .dataframe tbody tr th:only-of-type {\n",
       "        vertical-align: middle;\n",
       "    }\n",
       "\n",
       "    .dataframe tbody tr th {\n",
       "        vertical-align: top;\n",
       "    }\n",
       "\n",
       "    .dataframe thead th {\n",
       "        text-align: right;\n",
       "    }\n",
       "</style>\n",
       "<table border=\"1\" class=\"dataframe\">\n",
       "  <thead>\n",
       "    <tr style=\"text-align: right;\">\n",
       "      <th></th>\n",
       "      <th>4PM to Midnight</th>\n",
       "      <th>Midnight to 8AM</th>\n",
       "      <th>8AM to 4PM</th>\n",
       "      <th>(X_1 - \bar{X}_1)^2</th>\n",
       "      <th>(X_2 - \bar{X}_2)^2</th>\n",
       "      <th>(X_3 - \bar{X}_3)^2</th>\n",
       "    </tr>\n",
       "  </thead>\n",
       "  <tbody>\n",
       "    <tr>\n",
       "      <th>0</th>\n",
       "      <td>7.0</td>\n",
       "      <td>5</td>\n",
       "      <td>1</td>\n",
       "      <td>0.16</td>\n",
       "      <td>0.0225</td>\n",
       "      <td>4.9729</td>\n",
       "    </tr>\n",
       "    <tr>\n",
       "      <th>1</th>\n",
       "      <td>7.0</td>\n",
       "      <td>6</td>\n",
       "      <td>3</td>\n",
       "      <td>0.16</td>\n",
       "      <td>0.7225</td>\n",
       "      <td>0.0529</td>\n",
       "    </tr>\n",
       "    <tr>\n",
       "      <th>2</th>\n",
       "      <td>6.0</td>\n",
       "      <td>3</td>\n",
       "      <td>4</td>\n",
       "      <td>1.96</td>\n",
       "      <td>4.6225</td>\n",
       "      <td>0.5929</td>\n",
       "    </tr>\n",
       "    <tr>\n",
       "      <th>3</th>\n",
       "      <td>9.0</td>\n",
       "      <td>5</td>\n",
       "      <td>3</td>\n",
       "      <td>2.56</td>\n",
       "      <td>0.0225</td>\n",
       "      <td>0.0529</td>\n",
       "    </tr>\n",
       "    <tr>\n",
       "      <th>4</th>\n",
       "      <td>8.0</td>\n",
       "      <td>4</td>\n",
       "      <td>1</td>\n",
       "      <td>0.36</td>\n",
       "      <td>1.3225</td>\n",
       "      <td>4.9729</td>\n",
       "    </tr>\n",
       "    <tr>\n",
       "      <th>5</th>\n",
       "      <td>7.0</td>\n",
       "      <td>6</td>\n",
       "      <td>1</td>\n",
       "      <td>0.16</td>\n",
       "      <td>0.7225</td>\n",
       "      <td>4.9729</td>\n",
       "    </tr>\n",
       "    <tr>\n",
       "      <th>6</th>\n",
       "      <td>6.0</td>\n",
       "      <td>5</td>\n",
       "      <td>2</td>\n",
       "      <td>1.96</td>\n",
       "      <td>0.0225</td>\n",
       "      <td>1.5129</td>\n",
       "    </tr>\n",
       "    <tr>\n",
       "      <th>7</th>\n",
       "      <td>7.0</td>\n",
       "      <td>4</td>\n",
       "      <td>6</td>\n",
       "      <td>0.16</td>\n",
       "      <td>1.3225</td>\n",
       "      <td>7.6729</td>\n",
       "    </tr>\n",
       "    <tr>\n",
       "      <th>8</th>\n",
       "      <td>8.0</td>\n",
       "      <td>5</td>\n",
       "      <td>5</td>\n",
       "      <td>0.36</td>\n",
       "      <td>0.0225</td>\n",
       "      <td>3.1329</td>\n",
       "    </tr>\n",
       "    <tr>\n",
       "      <th>9</th>\n",
       "      <td>9.0</td>\n",
       "      <td>5</td>\n",
       "      <td>4</td>\n",
       "      <td>2.56</td>\n",
       "      <td>0.0225</td>\n",
       "      <td>0.5929</td>\n",
       "    </tr>\n",
       "    <tr>\n",
       "      <th>10</th>\n",
       "      <td>NaN</td>\n",
       "      <td>6</td>\n",
       "      <td>3</td>\n",
       "      <td>NaN</td>\n",
       "      <td>0.7225</td>\n",
       "      <td>0.0529</td>\n",
       "    </tr>\n",
       "    <tr>\n",
       "      <th>11</th>\n",
       "      <td>NaN</td>\n",
       "      <td>7</td>\n",
       "      <td>4</td>\n",
       "      <td>NaN</td>\n",
       "      <td>3.4225</td>\n",
       "      <td>0.5929</td>\n",
       "    </tr>\n",
       "    <tr>\n",
       "      <th>12</th>\n",
       "      <td>NaN</td>\n",
       "      <td>6</td>\n",
       "      <td>5</td>\n",
       "      <td>NaN</td>\n",
       "      <td>0.7225</td>\n",
       "      <td>3.1329</td>\n",
       "    </tr>\n",
       "  </tbody>\n",
       "</table>\n",
       "</div>"
      ],
      "text/plain": [
       "    4PM to Midnight  Midnight to 8AM  8AM to 4PM  (X_1 - \bar{X}_1)^2  \\\n",
       "0               7.0                5           1                0.16   \n",
       "1               7.0                6           3                0.16   \n",
       "2               6.0                3           4                1.96   \n",
       "3               9.0                5           3                2.56   \n",
       "4               8.0                4           1                0.36   \n",
       "5               7.0                6           1                0.16   \n",
       "6               6.0                5           2                1.96   \n",
       "7               7.0                4           6                0.16   \n",
       "8               8.0                5           5                0.36   \n",
       "9               9.0                5           4                2.56   \n",
       "10              NaN                6           3                 NaN   \n",
       "11              NaN                7           4                 NaN   \n",
       "12              NaN                6           5                 NaN   \n",
       "\n",
       "    (X_2 - \bar{X}_2)^2  (X_3 - \bar{X}_3)^2  \n",
       "0               0.0225              4.9729  \n",
       "1               0.7225              0.0529  \n",
       "2               4.6225              0.5929  \n",
       "3               0.0225              0.0529  \n",
       "4               1.3225              4.9729  \n",
       "5               0.7225              4.9729  \n",
       "6               0.0225              1.5129  \n",
       "7               1.3225              7.6729  \n",
       "8               0.0225              3.1329  \n",
       "9               0.0225              0.5929  \n",
       "10              0.7225              0.0529  \n",
       "11              3.4225              0.5929  \n",
       "12              0.7225              3.1329  "
      ]
     },
     "execution_count": 24,
     "metadata": {},
     "output_type": "execute_result"
    }
   ],
   "source": [
    "df = pd.DataFrame({\n",
    "    \"4PM to Midnight\":  [7, 7, 6, 9, 8, 7, 6, 7, 8, 9, np.nan, np.nan, np.nan],\n",
    "    \"Midnight to 8AM\":  [5, 6, 3, 5, 4, 6, 5, 4, 5, 5, 6, 7, 6],\n",
    "    \"8AM to 4PM\":       [1, 3, 4, 3, 1, 1, 2, 6, 5, 4, 3, 4, 5],\n",
    "    \"(X_1 - \\bar{X}_1)^2\":  (np.array([7, 7, 6, 9, 8, 7, 6, 7, 8, 9, np.nan, np.nan, np.nan]) - 7.4) ** 2,\n",
    "    \"(X_2 - \\bar{X}_2)^2\":  (np.array([5, 6, 3, 5, 4, 6, 5, 4, 5, 5, 6, 7, 6]) - 5.15) ** 2,\n",
    "    \"(X_3 - \\bar{X}_3)^2\":  (np.array([1, 3, 4, 3, 1, 1, 2, 6, 5, 4, 3, 4, 5]) - 3.23) ** 2,\n",
    "})\n",
    "df"
   ]
  },
  {
   "cell_type": "code",
   "execution_count": 17,
   "metadata": {},
   "outputs": [
    {
     "data": {
      "text/html": [
       "<div>\n",
       "<style scoped>\n",
       "    .dataframe tbody tr th:only-of-type {\n",
       "        vertical-align: middle;\n",
       "    }\n",
       "\n",
       "    .dataframe tbody tr th {\n",
       "        vertical-align: top;\n",
       "    }\n",
       "\n",
       "    .dataframe thead th {\n",
       "        text-align: right;\n",
       "    }\n",
       "</style>\n",
       "<table border=\"1\" class=\"dataframe\">\n",
       "  <thead>\n",
       "    <tr style=\"text-align: right;\">\n",
       "      <th></th>\n",
       "      <th>0</th>\n",
       "      <th>1</th>\n",
       "      <th>2</th>\n",
       "    </tr>\n",
       "  </thead>\n",
       "  <tbody>\n",
       "    <tr>\n",
       "      <th>n_g</th>\n",
       "      <td>10.000000</td>\n",
       "      <td>13.000000</td>\n",
       "      <td>13.000000</td>\n",
       "    </tr>\n",
       "    <tr>\n",
       "      <th>n_G</th>\n",
       "      <td>36.000000</td>\n",
       "      <td>NaN</td>\n",
       "      <td>NaN</td>\n",
       "    </tr>\n",
       "    <tr>\n",
       "      <th>\bar{X}_g</th>\n",
       "      <td>7.400000</td>\n",
       "      <td>5.153846</td>\n",
       "      <td>3.230769</td>\n",
       "    </tr>\n",
       "    <tr>\n",
       "      <th>\bar{X}_G</th>\n",
       "      <td>5.083333</td>\n",
       "      <td>NaN</td>\n",
       "      <td>NaN</td>\n",
       "    </tr>\n",
       "    <tr>\n",
       "      <th>k</th>\n",
       "      <td>3.000000</td>\n",
       "      <td>NaN</td>\n",
       "      <td>NaN</td>\n",
       "    </tr>\n",
       "  </tbody>\n",
       "</table>\n",
       "</div>"
      ],
      "text/plain": [
       "                  0          1          2\n",
       "n_g       10.000000  13.000000  13.000000\n",
       "n_G       36.000000        NaN        NaN\n",
       "\bar{X}_g   7.400000   5.153846   3.230769\n",
       "\bar{X}_G   5.083333        NaN        NaN\n",
       "k          3.000000        NaN        NaN"
      ]
     },
     "execution_count": 17,
     "metadata": {},
     "output_type": "execute_result"
    }
   ],
   "source": [
    "df_summary = pd.DataFrame({\n",
    "    \"n_g\": [df[\"4PM to Midnight\"].count(), df[\"Midnight to 8AM\"].count(), df[\"8AM to 4PM\"].count(),],\n",
    "    \"n_G\": [df[\"4PM to Midnight\"].count() + df[\"Midnight to 8AM\"].count() + df[\"8AM to 4PM\"].count(), np.nan, np.nan],\n",
    "    \"\\bar{X}_g\": [df[\"4PM to Midnight\"].mean(), df[\"Midnight to 8AM\"].mean(), df[\"8AM to 4PM\"].mean(),],\n",
    "    \"\\bar{X}_G\": [\n",
    "        (df[\"4PM to Midnight\"].sum() + df[\"Midnight to 8AM\"].sum() + df[\"8AM to 4PM\"].sum()) / \n",
    "        (df[\"4PM to Midnight\"].count() + df[\"Midnight to 8AM\"].count() + df[\"8AM to 4PM\"].count()), np.nan, np.nan],\n",
    "    \"k\": [3, np.nan, np.nan],\n",
    "}).transpose()\n",
    "\n",
    "df_summary"
   ]
  },
  {
   "cell_type": "markdown",
   "metadata": {},
   "source": [
    "# Hypothesis\n",
    "\n",
    "$H_0: \\mu_1 = \\mu_2 = \\mu_3$ There is no difference between the population in the sample\n",
    "\n",
    "$H_1: \\mu_1 \\neq \\mu_2 \\neq \\mu_3$\n",
    "\n",
    "$\\alpha = 0.05$"
   ]
  },
  {
   "cell_type": "code",
   "execution_count": 30,
   "metadata": {},
   "outputs": [
    {
     "data": {
      "text/plain": [
       "np.float64(1.7090969696969696)"
      ]
     },
     "execution_count": 30,
     "metadata": {},
     "output_type": "execute_result"
    }
   ],
   "source": [
    "MSS_W = ( df[\"(X_1 - \\x08ar{X}_1)^2\"].sum() + df[\"(X_2 - \\x08ar{X}_2)^2\"].sum() + df[\"(X_3 - \\x08ar{X}_3)^2\"].sum() ) / (36 - 3)\n",
    "MSS_W"
   ]
  },
  {
   "cell_type": "code",
   "execution_count": 31,
   "metadata": {},
   "outputs": [
    {
     "data": {
      "text/plain": [
       "49.19010000000001"
      ]
     },
     "execution_count": 31,
     "metadata": {},
     "output_type": "execute_result"
    }
   ],
   "source": [
    "MSS_B = ( 10 * (7.40 - 5.08) ** 2    \\\n",
    "       + 13 * (5.15 - 5.08) ** 2    \\\n",
    "       + 13 * (3.23 - 5.08) ** 2 ) / (3 - 1)\n",
    "MSS_B"
   ]
  },
  {
   "cell_type": "code",
   "execution_count": 32,
   "metadata": {},
   "outputs": [
    {
     "data": {
      "text/plain": [
       "np.float64(28.781339427874375)"
      ]
     },
     "execution_count": 32,
     "metadata": {},
     "output_type": "execute_result"
    }
   ],
   "source": [
    "F = MSS_B / MSS_W\n",
    "F"
   ]
  },
  {
   "cell_type": "code",
   "execution_count": 36,
   "metadata": {},
   "outputs": [
    {
     "data": {
      "text/plain": [
       "np.float64(3.2849176510382883)"
      ]
     },
     "execution_count": 36,
     "metadata": {},
     "output_type": "execute_result"
    }
   ],
   "source": [
    "f.ppf(1-0.05, 3 - 1, 36 - 3)"
   ]
  },
  {
   "cell_type": "markdown",
   "metadata": {},
   "source": [
    "F stats > F critical value\n",
    "\n",
    "So, reject the $H_0$"
   ]
  }
 ],
 "metadata": {
  "kernelspec": {
   "display_name": "Python 3",
   "language": "python",
   "name": "python3"
  },
  "language_info": {
   "codemirror_mode": {
    "name": "ipython",
    "version": 3
   },
   "file_extension": ".py",
   "mimetype": "text/x-python",
   "name": "python",
   "nbconvert_exporter": "python",
   "pygments_lexer": "ipython3",
   "version": "3.10.14"
  }
 },
 "nbformat": 4,
 "nbformat_minor": 2
}
