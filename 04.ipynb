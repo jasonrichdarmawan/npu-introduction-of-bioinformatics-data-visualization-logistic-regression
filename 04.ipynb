{
 "cells": [
  {
   "cell_type": "code",
   "execution_count": 29,
   "metadata": {},
   "outputs": [],
   "source": [
    "# Import the required Python packages\n",
    "import pandas as pd\n",
    "from scipy.stats import chi2"
   ]
  },
  {
   "cell_type": "code",
   "execution_count": 12,
   "metadata": {},
   "outputs": [
    {
     "data": {
      "text/html": [
       "<div>\n",
       "<style scoped>\n",
       "    .dataframe tbody tr th:only-of-type {\n",
       "        vertical-align: middle;\n",
       "    }\n",
       "\n",
       "    .dataframe tbody tr th {\n",
       "        vertical-align: top;\n",
       "    }\n",
       "\n",
       "    .dataframe thead th {\n",
       "        text-align: right;\n",
       "    }\n",
       "</style>\n",
       "<table border=\"1\" class=\"dataframe\">\n",
       "  <thead>\n",
       "    <tr style=\"text-align: right;\">\n",
       "      <th></th>\n",
       "      <th>Hearts</th>\n",
       "      <th>Spades</th>\n",
       "      <th>Diamonds</th>\n",
       "      <th>Clubs</th>\n",
       "    </tr>\n",
       "  </thead>\n",
       "  <tbody>\n",
       "    <tr>\n",
       "      <th>count</th>\n",
       "      <td>441</td>\n",
       "      <td>404</td>\n",
       "      <td>402</td>\n",
       "      <td>353</td>\n",
       "    </tr>\n",
       "  </tbody>\n",
       "</table>\n",
       "</div>"
      ],
      "text/plain": [
       "       Hearts  Spades  Diamonds  Clubs\n",
       "count     441     404       402    353"
      ]
     },
     "execution_count": 12,
     "metadata": {},
     "output_type": "execute_result"
    }
   ],
   "source": [
    "df = pd.DataFrame(data={\n",
    "    \"Hearts\": 441,\n",
    "    \"Spades\": 404,\n",
    "    \"Diamonds\": 402,\n",
    "    \"Clubs\": 353\n",
    "}, index=[\"count\"])\n",
    "df"
   ]
  },
  {
   "cell_type": "markdown",
   "metadata": {},
   "source": [
    "# Hypothesis\n",
    "\n",
    "$H_0: P_H = P_S = P_D = P_C$\n",
    "\n",
    "$H_1: P_H \\neq P_S \\neq P_D \\neq P_C$"
   ]
  },
  {
   "cell_type": "code",
   "execution_count": 19,
   "metadata": {},
   "outputs": [
    {
     "data": {
      "text/html": [
       "<div>\n",
       "<style scoped>\n",
       "    .dataframe tbody tr th:only-of-type {\n",
       "        vertical-align: middle;\n",
       "    }\n",
       "\n",
       "    .dataframe tbody tr th {\n",
       "        vertical-align: top;\n",
       "    }\n",
       "\n",
       "    .dataframe thead th {\n",
       "        text-align: right;\n",
       "    }\n",
       "</style>\n",
       "<table border=\"1\" class=\"dataframe\">\n",
       "  <thead>\n",
       "    <tr style=\"text-align: right;\">\n",
       "      <th></th>\n",
       "      <th>Hearts</th>\n",
       "      <th>Spades</th>\n",
       "      <th>Diamonds</th>\n",
       "      <th>Clubs</th>\n",
       "    </tr>\n",
       "  </thead>\n",
       "  <tbody>\n",
       "    <tr>\n",
       "      <th>observed</th>\n",
       "      <td>441.0000</td>\n",
       "      <td>404.00</td>\n",
       "      <td>402.00</td>\n",
       "      <td>353.0000</td>\n",
       "    </tr>\n",
       "    <tr>\n",
       "      <th>expected</th>\n",
       "      <td>400.0000</td>\n",
       "      <td>400.00</td>\n",
       "      <td>400.00</td>\n",
       "      <td>400.0000</td>\n",
       "    </tr>\n",
       "    <tr>\n",
       "      <th>observed - expected</th>\n",
       "      <td>41.0000</td>\n",
       "      <td>4.00</td>\n",
       "      <td>2.00</td>\n",
       "      <td>-47.0000</td>\n",
       "    </tr>\n",
       "    <tr>\n",
       "      <th>O - E squared</th>\n",
       "      <td>1681.0000</td>\n",
       "      <td>16.00</td>\n",
       "      <td>4.00</td>\n",
       "      <td>2209.0000</td>\n",
       "    </tr>\n",
       "    <tr>\n",
       "      <th>(O - E) squared / E</th>\n",
       "      <td>4.2025</td>\n",
       "      <td>0.04</td>\n",
       "      <td>0.01</td>\n",
       "      <td>5.5225</td>\n",
       "    </tr>\n",
       "  </tbody>\n",
       "</table>\n",
       "</div>"
      ],
      "text/plain": [
       "                        Hearts  Spades  Diamonds      Clubs\n",
       "observed              441.0000  404.00    402.00   353.0000\n",
       "expected              400.0000  400.00    400.00   400.0000\n",
       "observed - expected    41.0000    4.00      2.00   -47.0000\n",
       "O - E squared        1681.0000   16.00      4.00  2209.0000\n",
       "(O - E) squared / E     4.2025    0.04      0.01     5.5225"
      ]
     },
     "execution_count": 19,
     "metadata": {},
     "output_type": "execute_result"
    }
   ],
   "source": [
    "table = pd.DataFrame(data={\n",
    "    \"Hearts\":   [441, 400, 441 - 400, (441 - 400) ** 2, (441 - 400) ** 2 / 400],\n",
    "    \"Spades\":   [404, 400, 404 - 400, (404 - 400) ** 2, (404 - 400) ** 2 / 400],\n",
    "    \"Diamonds\": [402, 400, 402 - 400, (402 - 400) ** 2, (402 - 400) ** 2 / 400],\n",
    "    \"Clubs\":    [353, 400, 353 - 400, (353 - 400) ** 2, (353 - 400) ** 2 / 400],\n",
    "}, index=[\"observed\", \"expected\", \"observed - expected\", \"O - E squared\", \"(O - E) squared / E\"])\n",
    "table"
   ]
  },
  {
   "cell_type": "code",
   "execution_count": 20,
   "metadata": {},
   "outputs": [
    {
     "data": {
      "text/plain": [
       "np.float64(9.774999999999999)"
      ]
     },
     "execution_count": 20,
     "metadata": {},
     "output_type": "execute_result"
    }
   ],
   "source": [
    "# Calculate the chi-square stats\n",
    "sum_value = table.loc[\"(O - E) squared / E\"].sum()\n",
    "sum_value"
   ]
  },
  {
   "cell_type": "code",
   "execution_count": 31,
   "metadata": {},
   "outputs": [
    {
     "data": {
      "text/plain": [
       "np.float64(7.8147279032511765)"
      ]
     },
     "execution_count": 31,
     "metadata": {},
     "output_type": "execute_result"
    }
   ],
   "source": [
    "# See the chi-square distributions table, and look for degree of freedom (4 - 1) or 3 and alpha = 0.05\n",
    "# The critical value is 7.81\n",
    "# Compare the chi-square stats with the critical value\n",
    "critical_value = chi2.ppf(q=1-0.05, df=3)\n",
    "critical_value"
   ]
  },
  {
   "cell_type": "markdown",
   "metadata": {},
   "source": [
    "# Reject the $H_0$\n",
    "\n",
    "$\\chi^2_{(3)} = 9.77, p < 0.05$\n",
    "\n",
    "Since $\\chi^2 > \\text{critical value}$, we reject $H_0$"
   ]
  },
  {
   "cell_type": "code",
   "execution_count": 33,
   "metadata": {},
   "outputs": [
    {
     "data": {
      "text/plain": [
       "np.True_"
      ]
     },
     "execution_count": 33,
     "metadata": {},
     "output_type": "execute_result"
    }
   ],
   "source": [
    "# Reject the H0 if the chi-square stats is greater than the critical value\n",
    "sum_value > critical_value"
   ]
  }
 ],
 "metadata": {
  "kernelspec": {
   "display_name": "Python 3",
   "language": "python",
   "name": "python3"
  },
  "language_info": {
   "codemirror_mode": {
    "name": "ipython",
    "version": 3
   },
   "file_extension": ".py",
   "mimetype": "text/x-python",
   "name": "python",
   "nbconvert_exporter": "python",
   "pygments_lexer": "ipython3",
   "version": "3.10.14"
  }
 },
 "nbformat": 4,
 "nbformat_minor": 2
}
